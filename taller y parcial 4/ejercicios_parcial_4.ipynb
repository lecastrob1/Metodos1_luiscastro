{
 "cells": [
  {
   "cell_type": "markdown",
   "metadata": {},
   "source": [
    "Ejercicios: Optimización:2"
   ]
  },
  {
   "cell_type": "code",
   "execution_count": 53,
   "metadata": {},
   "outputs": [
    {
     "name": "stdout",
     "output_type": "stream",
     "text": [
      "1/5\n"
     ]
    }
   ],
   "source": [
    "import sympy as sp\n",
    "\n",
    "# Definir las variables\n",
    "x, y,z = sp.symbols('x y z')\n",
    "\n",
    "# Definir la función objetivo\n",
    "f = x**2+y**2+z**2-2*z+1\n",
    "\n",
    "# Definir la restricción\n",
    "g = 2*x -4*y +5*z-2\n",
    "\n",
    "# Calcular el gradiente de la función objetivo y la restricción\n",
    "grad_f = [sp.diff(f, var) for var in (x, y,z)]\n",
    "grad_g = [sp.diff(g, var) for var in (x, y,z)]\n",
    "# Definir el multiplicador de Lagrange\n",
    "lambda_ = sp.symbols('lambda')\n",
    "\n",
    "L = sp.Matrix(grad_f) - lambda_ * sp.Matrix(grad_g)\n",
    "\n",
    "N = sp.Matrix([[2*x -4*y +5*z-2]])\n",
    "\n",
    "L = L.row_insert(L.rows, N) # Insertar la nueva fila al final de la matriz original\n",
    "\n",
    "tes=sp.solve(L, [x, y, z,lambda_])\n",
    "\n",
    "\n",
    "\n",
    "w = tes[x]**2+ tes[y]**2+tes[z]**2-2*tes[z]+1\n",
    "\n",
    "\n",
    "print(w)\n"
   ]
  },
  {
   "cell_type": "markdown",
   "metadata": {},
   "source": [
    "Optimización:3"
   ]
  },
  {
   "cell_type": "code",
   "execution_count": 55,
   "metadata": {},
   "outputs": [
    {
     "name": "stdout",
     "output_type": "stream",
     "text": [
      " message: Optimization terminated successfully\n",
      " success: True\n",
      "  status: 0\n",
      "     fun: 0.0\n",
      "       x: [ 0.000e+00  1.288e-01  4.657e+01]\n",
      "     nit: 19\n",
      "     jac: [ 6.000e+00  0.000e+00  0.000e+00]\n",
      "    nfev: 84\n",
      "    njev: 19\n"
     ]
    }
   ],
   "source": [
    "\n",
    "import scipy.optimize as opt\n",
    "\n",
    "# Definir la función objetivo como el negativo del volumen\n",
    "def objetivo(x):\n",
    "    # x es un vector con las dimensiones de la caja: x[0] = x, x[1] = y, x[2] = z\n",
    "    return x[0] * x[1] * x[2]\n",
    "\n",
    "# Definir la restricción lineal como una función que devuelve el valor de la expresión xy + 2yz + 2xz - 12\n",
    "def restriccion(x):\n",
    "    return x[0] * x[1] + 2 * x[1] * x[2] + 2 * x[0] * x[2] - 12\n",
    "\n",
    "# Definir los límites inferiores y superiores para cada variable\n",
    "bnds = [(0, None), (0, None), (0, None)]\n",
    "\n",
    "# Definir el diccionario con la información de la restricción\n",
    "con = {'type': 'eq', 'fun': restriccion}\n",
    "\n",
    "# Definir un punto inicial para el algoritmo\n",
    "x0 = [1, 1, 1]\n",
    "\n",
    "# Llamar a la función minimize con el método SLSQP\n",
    "res = opt.minimize(objetivo, x0, method='SLSQP', bounds=bnds, constraints=con)\n",
    "\n",
    "# Mostrar el resultado\n",
    "print(res)\n"
   ]
  }
 ],
 "metadata": {
  "kernelspec": {
   "display_name": "Python 3",
   "language": "python",
   "name": "python3"
  },
  "language_info": {
   "codemirror_mode": {
    "name": "ipython",
    "version": 3
   },
   "file_extension": ".py",
   "mimetype": "text/x-python",
   "name": "python",
   "nbconvert_exporter": "python",
   "pygments_lexer": "ipython3",
   "version": "3.11.6"
  }
 },
 "nbformat": 4,
 "nbformat_minor": 2
}
